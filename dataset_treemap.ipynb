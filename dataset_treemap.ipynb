{
 "cells": [
  {
   "cell_type": "code",
   "execution_count": 2,
   "id": "34e1542e-335d-4515-879f-e6a8406c5275",
   "metadata": {},
   "outputs": [
    {
     "name": "stdout",
     "output_type": "stream",
     "text": [
      "Loading...\n"
     ]
    }
   ],
   "source": [
    "import shutil\n",
    "import sys\n",
    "import os\n",
    "from glob import glob\n",
    "from importlib import reload\n",
    "\n",
    "print(\"Loading...\")\n",
    "sys.path.insert(0, \"/home/2649/repos/TRANSSClass/scripts\")\n",
    "import TRANSSC_utils\n",
    "\n",
    "\"\"\"Import community packages\"\"\"\n",
    "import numpy as np\n",
    "import pandas as pd\n",
    "import matplotlib.pyplot as plt\n",
    "\n",
    "R_vals = [\n",
    "    738, 700, 600, 500, 400, 300,\n",
    "    200, 175, 150, 125, 100,\n",
    "    90, 80, 70, 60, 50,\n",
    "    45, 40, 35, 30, 25, 20, 15, 10, 5\n",
    "]"
   ]
  },
  {
   "cell_type": "code",
   "execution_count": 23,
   "id": "64561c85-772f-4fb2-be09-ba8912576c00",
   "metadata": {},
   "outputs": [],
   "source": [
    "import SNIDsn\n",
    "lnws = TRANSSC_utils.SESNtemple_DATA\n",
    "\n",
    "\n",
    "SNs = []\n",
    "SNtypes = []\n",
    "SNtypes_str = []\n",
    "specs = []\n",
    "spectypes = []\n",
    "\n",
    "for lnw in lnws:\n",
    "    spec = SNIDsn.SNIDsn()\n",
    "    spec.loadSNIDlnw(lnw)\n",
    "    SNtype = TRANSSC_utils.SNtypes_str_to_int[spec.header[\"TypeStr\"]]\n",
    "\n",
    "    if spec.header[\"TypeStr\"] in [\"Ib-pec\", \"Ibn\", \"Ic-pec\"]:\n",
    "        continue\n",
    "    \n",
    "    SNs.append(spec.header[\"SN\"])\n",
    "    SNtypes.append(SNtype)\n",
    "    SNtypes_str.append(spec.header[\"TypeStr\"])\n",
    "\n",
    "    for phase in spec.phases:\n",
    "        specs.append(phase)\n",
    "        spectypes.append(SNtype)"
   ]
  },
  {
   "cell_type": "code",
   "execution_count": 24,
   "id": "342754cf-e14d-4ff6-93b2-9016ab018c59",
   "metadata": {},
   "outputs": [
    {
     "data": {
      "text/plain": [
       "array(['IIb', 'Ib', 'Ib-norm', 'Ic', 'Ic-broad', 'Ic-norm'], dtype='<U8')"
      ]
     },
     "execution_count": 24,
     "metadata": {},
     "output_type": "execute_result"
    }
   ],
   "source": [
    "np.unique(SNtypes_str)"
   ]
  },
  {
   "cell_type": "code",
   "execution_count": 25,
   "id": "3d3fd078-506d-45d4-83bc-275cc8a61a4d",
   "metadata": {},
   "outputs": [
    {
     "data": {
      "text/plain": [
       "(array([29., 23.,  0., 50.]),\n",
       " array([ 6.  ,  7.25,  8.5 ,  9.75, 11.  ]),\n",
       " <BarContainer object of 4 artists>)"
      ]
     },
     "execution_count": 25,
     "metadata": {},
     "output_type": "execute_result"
    },
    {
     "data": {
      "image/png": "[encoded data removed]",
      "text/plain": [
       "<Figure size 432x288 with 1 Axes>"
      ]
     },
     "metadata": {
      "needs_background": "light"
     },
     "output_type": "display_data"
    }
   ],
   "source": [
    "plt.hist(SNtypes, bins=len(np.unique(SNtypes)))"
   ]
  },
  {
   "cell_type": "code",
   "execution_count": 26,
   "id": "7b2e0a5e-33fd-4fac-8173-a8714109c46f",
   "metadata": {},
   "outputs": [
    {
     "data": {
      "text/plain": [
       "array([ 6,  8, 10, 11])"
      ]
     },
     "execution_count": 26,
     "metadata": {},
     "output_type": "execute_result"
    }
   ],
   "source": [
    "np.unique(SNtypes)"
   ]
  },
  {
   "cell_type": "code",
   "execution_count": 28,
   "id": "1e688f9b-29c2-462f-bab8-a8351d1616ec",
   "metadata": {},
   "outputs": [
    {
     "data": {
      "text/plain": [
       "'Ib-norm'"
      ]
     },
     "execution_count": 28,
     "metadata": {},
     "output_type": "execute_result"
    }
   ],
   "source": [
    "TRANSSC_utils.SNtypes_int_to_str[6]"
   ]
  },
  {
   "cell_type": "code",
   "execution_count": 29,
   "id": "ba62e31f-10e9-4ebe-8686-4282889d16da",
   "metadata": {},
   "outputs": [
    {
     "data": {
      "text/plain": [
       "'IIb'"
      ]
     },
     "execution_count": 29,
     "metadata": {},
     "output_type": "execute_result"
    }
   ],
   "source": [
    "TRANSSC_utils.SNtypes_int_to_str[8]"
   ]
  },
  {
   "cell_type": "code",
   "execution_count": 30,
   "id": "ae708ce6-793d-43d3-ab0e-cc07d16aa6c2",
   "metadata": {},
   "outputs": [
    {
     "data": {
      "text/plain": [
       "'Ic-norm'"
      ]
     },
     "execution_count": 30,
     "metadata": {},
     "output_type": "execute_result"
    }
   ],
   "source": [
    "TRANSSC_utils.SNtypes_int_to_str[10]"
   ]
  },
  {
   "cell_type": "code",
   "execution_count": 32,
   "id": "3f898106-1c57-4f14-8ffa-867eb8d6e136",
   "metadata": {},
   "outputs": [
    {
     "data": {
      "text/plain": [
       "'Ic-broad'"
      ]
     },
     "execution_count": 32,
     "metadata": {},
     "output_type": "execute_result"
    }
   ],
   "source": [
    "TRANSSC_utils.SNtypes_int_to_str[11]"
   ]
  },
  {
   "cell_type": "code",
   "execution_count": 33,
   "id": "05068adb-ceee-479e-8f26-49f0879cfadf",
   "metadata": {},
   "outputs": [
    {
     "data": {
      "text/plain": [
       "array([ 0,  0,  0,  0,  0,  0, 29,  0, 23,  0, 24, 26])"
      ]
     },
     "execution_count": 33,
     "metadata": {},
     "output_type": "execute_result"
    }
   ],
   "source": [
    "np.bincount(SNtypes)"
   ]
  },
  {
   "cell_type": "code",
   "execution_count": 35,
   "id": "901e5b9f-1c9f-4d16-a478-76e6551a52a4",
   "metadata": {},
   "outputs": [
    {
     "data": {
      "image/png": "[encoded data removed]",
      "text/plain": [
       "<Figure size 720x648 with 1 Axes>"
      ]
     },
     "metadata": {},
     "output_type": "display_data"
    }
   ],
   "source": [
    "values = [29, 23, 24, 26]\n",
    "labels = [\"Ib-norm\\n29\", \"IIb\\n23\", \"Ic-norm\\n24\", \"Ic-broad\\n26\"]\n",
    "data = {\"labels\": labels, \"values\": values}\n",
    "df = pd.DataFrame(data)\n",
    "\n",
    "colors = [\n",
    "    \"#118c11\",\n",
    "    \"#32a632\",\n",
    "    \"#ffda0a\",\n",
    "    \"#ffe433\",\n",
    "]\n",
    "\n",
    "plt.style.use(\"https://raw.githubusercontent.com/FoxFortino/stylefile/master/custom.mplstyle\")\n",
    "\n",
    "plt.rcParams[\"font.weight\"] = \"normal\"\n",
    "plt.rcParams[\"axes.labelweight\"] = \"normal\"\n",
    "\n",
    "plt.rcParams[\"xtick.minor.width\"] = 1\n",
    "plt.rcParams[\"xtick.major.width\"] = 1\n",
    "\n",
    "plt.rcParams[\"ytick.minor.width\"] = 1\n",
    "plt.rcParams[\"ytick.major.width\"] = 1\n",
    "\n",
    "plt.rcParams[\"axes.linewidth\"] = 1\n",
    "\n",
    "import squarify\n",
    "import seaborn as sns\n",
    "\n",
    "\n",
    "\n",
    "sizes = df[\"values\"].values\n",
    "label = df[\"labels\"]\n",
    "plt.figure(figsize=(10, 9))\n",
    "squarify.plot(\n",
    "    sizes=sizes,\n",
    "    label=label,\n",
    "    alpha=0.6,\n",
    "    color=colors).set()\n",
    "\n",
    "plt.axis('off')\n",
    "plt.savefig(\"treemap_SESN_SN.png\")\n",
    "plt.show()"
   ]
  },
  {
   "cell_type": "code",
   "execution_count": 91,
   "id": "7d7f9b56-9ec8-40e1-b04d-63f32708cc73",
   "metadata": {},
   "outputs": [],
   "source": [
    "R = 738\n",
    "MODEL_DIR = f\"/lustre/lrspec/users/2649/models/transformer_testing/{R}\""
   ]
  },
  {
   "cell_type": "code",
   "execution_count": 92,
   "id": "fbc9b27c-7895-493f-9316-a6599fdbc364",
   "metadata": {},
   "outputs": [],
   "source": [
    "data_trn = TRANSSC_utils.load_csv(os.path.join(MODEL_DIR, \"data_trn.csv\"))\n",
    "data_tst = TRANSSC_utils.load_csv(os.path.join(MODEL_DIR, \"data_tst.csv\"))\n",
    "L_trn, S_trn, P_trn, Y_trn, X_trn, df_trn = data_trn\n",
    "L_tst, S_tst, P_tst, Y_tst, X_tst, df_tst = data_tst"
   ]
  },
  {
   "cell_type": "code",
   "execution_count": 93,
   "id": "44a674ec-f74a-4c60-a1ab-719d565d18cc",
   "metadata": {},
   "outputs": [],
   "source": [
    "df_all = pd.concat([df_trn, df_tst])\n",
    "classes = df.groupby(\"lnw\").apply(lambda x: x[\"target\"][0]).to_numpy()"
   ]
  },
  {
   "cell_type": "code",
   "execution_count": 94,
   "id": "13c691ac-1bf2-48af-baa6-d8a7d2b1fd86",
   "metadata": {},
   "outputs": [],
   "source": [
    "TRANSSC_utils.SNtypes_int = np.unique(Y_trn)\n",
    "TRANSSC_utils.SNtypes_str = [TRANSSC_utils.SNtypes_int_to_str[sn] for sn in TRANSSC_utils.SNtypes_int]"
   ]
  },
  {
   "cell_type": "code",
   "execution_count": 95,
   "id": "bfcbfa02-156c-4691-a202-5f39a84cd2da",
   "metadata": {},
   "outputs": [],
   "source": [
    "values = np.bincount(classes)\n",
    "values = np.bincount(df_all[\"target\"])\n",
    "labels = TRANSSC_utils.SNtypes_str"
   ]
  },
  {
   "cell_type": "code",
   "execution_count": 96,
   "id": "21af0f02-bbf8-4ef7-817c-64254abd9d7d",
   "metadata": {},
   "outputs": [],
   "source": [
    "labels = [f\"{label}\\n{count}\" for label, count in zip(labels, values)]"
   ]
  },
  {
   "cell_type": "code",
   "execution_count": 97,
   "id": "7e38976b-2a41-43dc-b521-78067523067b",
   "metadata": {},
   "outputs": [
    {
     "data": {
      "text/html": [
       "<div>\n",
       "<style scoped>\n",
       "    .dataframe tbody tr th:only-of-type {\n",
       "        vertical-align: middle;\n",
       "    }\n",
       "\n",
       "    .dataframe tbody tr th {\n",
       "        vertical-align: top;\n",
       "    }\n",
       "\n",
       "    .dataframe thead th {\n",
       "        text-align: right;\n",
       "    }\n",
       "</style>\n",
       "<table border=\"1\" class=\"dataframe\">\n",
       "  <thead>\n",
       "    <tr style=\"text-align: right;\">\n",
       "      <th></th>\n",
       "      <th>labels</th>\n",
       "      <th>values</th>\n",
       "    </tr>\n",
       "  </thead>\n",
       "  <tbody>\n",
       "    <tr>\n",
       "      <th>0</th>\n",
       "      <td>Ia-norm\\n2109</td>\n",
       "      <td>2109</td>\n",
       "    </tr>\n",
       "    <tr>\n",
       "      <th>1</th>\n",
       "      <td>Ia-91T\\n342</td>\n",
       "      <td>342</td>\n",
       "    </tr>\n",
       "    <tr>\n",
       "      <th>2</th>\n",
       "      <td>Ia-91bg\\n232</td>\n",
       "      <td>232</td>\n",
       "    </tr>\n",
       "    <tr>\n",
       "      <th>3</th>\n",
       "      <td>Ia-csm\\n14</td>\n",
       "      <td>14</td>\n",
       "    </tr>\n",
       "    <tr>\n",
       "      <th>4</th>\n",
       "      <td>Iax\\n59</td>\n",
       "      <td>59</td>\n",
       "    </tr>\n",
       "    <tr>\n",
       "      <th>5</th>\n",
       "      <td>Ia-pec\\n111</td>\n",
       "      <td>111</td>\n",
       "    </tr>\n",
       "    <tr>\n",
       "      <th>6</th>\n",
       "      <td>Ib-norm\\n212</td>\n",
       "      <td>212</td>\n",
       "    </tr>\n",
       "    <tr>\n",
       "      <th>7</th>\n",
       "      <td>Ibn\\n27</td>\n",
       "      <td>27</td>\n",
       "    </tr>\n",
       "    <tr>\n",
       "      <th>8</th>\n",
       "      <td>IIb\\n240</td>\n",
       "      <td>240</td>\n",
       "    </tr>\n",
       "    <tr>\n",
       "      <th>9</th>\n",
       "      <td>Ib-pec\\n12</td>\n",
       "      <td>12</td>\n",
       "    </tr>\n",
       "    <tr>\n",
       "      <th>10</th>\n",
       "      <td>Ic-norm\\n206</td>\n",
       "      <td>206</td>\n",
       "    </tr>\n",
       "    <tr>\n",
       "      <th>11</th>\n",
       "      <td>Ic-broad\\n229</td>\n",
       "      <td>229</td>\n",
       "    </tr>\n",
       "    <tr>\n",
       "      <th>12</th>\n",
       "      <td>Ic-pec\\n31</td>\n",
       "      <td>31</td>\n",
       "    </tr>\n",
       "    <tr>\n",
       "      <th>13</th>\n",
       "      <td>IIP\\n104</td>\n",
       "      <td>104</td>\n",
       "    </tr>\n",
       "    <tr>\n",
       "      <th>14</th>\n",
       "      <td>IIL\\n10</td>\n",
       "      <td>10</td>\n",
       "    </tr>\n",
       "    <tr>\n",
       "      <th>15</th>\n",
       "      <td>IIn\\n22</td>\n",
       "      <td>22</td>\n",
       "    </tr>\n",
       "  </tbody>\n",
       "</table>\n",
       "</div>"
      ],
      "text/plain": [
       "           labels  values\n",
       "0   Ia-norm\\n2109    2109\n",
       "1     Ia-91T\\n342     342\n",
       "2    Ia-91bg\\n232     232\n",
       "3      Ia-csm\\n14      14\n",
       "4         Iax\\n59      59\n",
       "5     Ia-pec\\n111     111\n",
       "6    Ib-norm\\n212     212\n",
       "7         Ibn\\n27      27\n",
       "8        IIb\\n240     240\n",
       "9      Ib-pec\\n12      12\n",
       "10   Ic-norm\\n206     206\n",
       "11  Ic-broad\\n229     229\n",
       "12     Ic-pec\\n31      31\n",
       "13       IIP\\n104     104\n",
       "14        IIL\\n10      10\n",
       "15        IIn\\n22      22"
      ]
     },
     "execution_count": 97,
     "metadata": {},
     "output_type": "execute_result"
    }
   ],
   "source": [
    "data = {\"labels\": labels, \"values\": values}\n",
    "df = pd.DataFrame(data)\n",
    "df"
   ]
  },
  {
   "cell_type": "code",
   "execution_count": 98,
   "id": "963c51b8-37c4-4de2-9298-c3e360b5697d",
   "metadata": {},
   "outputs": [],
   "source": [
    "colors = [\n",
    "    \"#1557c0\",\n",
    "    \"#196bde\",\n",
    "    \"#2382f7\",\n",
    "    \"#4b9cf9\",\n",
    "    \"#77b6fb\",\n",
    "    \"#a4cefc\",\n",
    "    \n",
    "    \"#118c11\",\n",
    "    \"#1f991f\",\n",
    "    \"#32a632\",\n",
    "    \"#47b347\",\n",
    "    \n",
    "    \"#ffda0a\",\n",
    "    \"#ffe433\",\n",
    "    \"#ffec5c\",\n",
    "    \n",
    "    \"#6818a5\",\n",
    "    \"#ab51e3\",\n",
    "    \"#dc97ff\"\n",
    "]"
   ]
  },
  {
   "cell_type": "code",
   "execution_count": 99,
   "id": "f9684d12-c6b9-4ba3-838d-dc306b307499",
   "metadata": {},
   "outputs": [],
   "source": [
    "plt.style.use(\"https://raw.githubusercontent.com/FoxFortino/stylefile/master/custom.mplstyle\")\n",
    "\n",
    "plt.rcParams[\"font.weight\"] = \"normal\"\n",
    "plt.rcParams[\"axes.labelweight\"] = \"normal\"\n",
    "\n",
    "plt.rcParams[\"xtick.minor.width\"] = 1\n",
    "plt.rcParams[\"xtick.major.width\"] = 1\n",
    "\n",
    "plt.rcParams[\"ytick.minor.width\"] = 1\n",
    "plt.rcParams[\"ytick.major.width\"] = 1\n",
    "\n",
    "plt.rcParams[\"axes.linewidth\"] = 1"
   ]
  },
  {
   "cell_type": "code",
   "execution_count": 100,
   "id": "5bf08b03-6bf8-4eba-b605-57542edcab0a",
   "metadata": {},
   "outputs": [
    {
     "data": {
      "image/png": "[encoded data removed]",
      "text/plain": [
       "<Figure size 720x648 with 1 Axes>"
      ]
     },
     "metadata": {},
     "output_type": "display_data"
    }
   ],
   "source": [
    "import squarify\n",
    "import seaborn as sns\n",
    "\n",
    "\n",
    "\n",
    "sizes = df[\"values\"].values\n",
    "label = df[\"labels\"]\n",
    "plt.figure(figsize=(10, 9))\n",
    "squarify.plot(\n",
    "    sizes=sizes,\n",
    "    label=label,\n",
    "    alpha=0.6,\n",
    "    color=colors).set()\n",
    "\n",
    "plt.axis('off')\n",
    "plt.savefig(\"treemap_SP.png\")\n",
    "plt.show()"
   ]
  },
  {
   "cell_type": "markdown",
   "id": "8494d923-8ab4-4a74-b0a4-4c92088d8800",
   "metadata": {},
   "source": [
    "Figure X: A 'treemap' plot showing the distribution of TYPES OF spectra in this dataset. The area of each rectangle is proportional to the number of spectra. Blue, green, yellow, and purple rectangles denote supernova spectra with broad type Ia, Ib, Ic, and II, respectively. This figure illustrates how imbalanced our dataset is. This leads to many complciations including how to split the split the dataset for training and how to evaluate a model where some classes are barely represented. We choose to ensure that spectra from the same supernova are never split between the training and the testing sets. Further, we are careful to consider the \"macro\" F1 score, an alternative to Tensorflow's categorical accuracy metric, because it places equal importance on the precision and recall of all classes in the dataset.\n",
    "\n",
    "people wont know ML TALK ABOUT NWHY CLASS IMABALANCE IS BAD"
   ]
  },
  {
   "cell_type": "code",
   "execution_count": null,
   "id": "9e2d86c7-5e7a-4204-ba9c-4f1c87370121",
   "metadata": {},
   "outputs": [],
   "source": []
  }
 ],
 "metadata": {
  "kernelspec": {
   "display_name": "Python 3 (ipykernel)",
   "language": "python",
   "name": "python3"
  },
  "language_info": {
   "codemirror_mode": {
    "name": "ipython",
    "version": 3
   },
   "file_extension": ".py",
   "mimetype": "text/x-python",
   "name": "python",
   "nbconvert_exporter": "python",
   "pygments_lexer": "ipython3",
   "version": "3.9.12"
  }
 },
 "nbformat": 4,
 "nbformat_minor": 5
}

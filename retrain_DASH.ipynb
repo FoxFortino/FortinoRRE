{
 "cells": [
  {
   "cell_type": "code",
   "execution_count": 1,
   "id": "c79e08c9-21c8-4d38-b70c-e948ba5355e8",
   "metadata": {},
   "outputs": [
    {
     "name": "stdout",
     "output_type": "stream",
     "text": [
      "Warning: You will need to install 'PyQt5' if you want to use the graphical interface. Using the automatic library will continue to work.\n",
      "WARNING:tensorflow:From /lustre/lrspec/users/2649/anaconda3/envs/fox/lib/python3.9/site-packages/tensorflow/python/compat/v2_compat.py:107: disable_resource_variables (from tensorflow.python.ops.variable_scope) is deprecated and will be removed in a future version.\n",
      "Instructions for updating:\n",
      "non-resource variables are not supported in the long term\n",
      "Warning: You will need to install 'PyQt5' if you want to use the graphical interface. Using the automatic library will continue to work.\n"
     ]
    }
   ],
   "source": [
    "import os\n",
    "import sys\n",
    "from importlib import reload\n",
    "\n",
    "sys.path.insert(0, \"/home/2649/repos/TRANSSClass/scripts\")\n",
    "import TRANSSC_utils as tutils\n",
    "import deep_learning_multilayer as dlm\n",
    "\n",
    "R_vals = [\n",
    "    738, 700, 600, 500, 400, 300,\n",
    "    200, 175, 150, 125, 100,\n",
    "    90, 80, 70, 60, 50,\n",
    "    45, 40, 35, 30, 25, 20, 15, 10, 5\n",
    "]"
   ]
  },
  {
   "cell_type": "code",
   "execution_count": 2,
   "id": "0d5436e1-f181-416e-958a-feb3ee59b5a6",
   "metadata": {
    "tags": []
   },
   "outputs": [],
   "source": [
    "R = 5\n",
    "restart_fit = True\n",
    "\n",
    "SAVE_DIR = \"/lustre/lrspec/users/2649/models/DASH_split_by_spectra\""
   ]
  },
  {
   "cell_type": "code",
   "execution_count": null,
   "id": "63d7621a-6cb2-4a38-93cc-5d5123ccc494",
   "metadata": {
    "tags": []
   },
   "outputs": [
    {
     "name": "stdout",
     "output_type": "stream",
     "text": [
      "Loading oversampled arrays...\n",
      "Loading complete.\n",
      "WARNING:tensorflow:From /lustre/lrspec/users/2649/anaconda3/envs/fox/lib/python3.9/site-packages/tensorflow/python/util/dispatch.py:1082: calling dropout (from tensorflow.python.ops.nn_ops) with keep_prob is deprecated and will be removed in a future version.\n",
      "Instructions for updating:\n",
      "Please use `rate` instead of `keep_prob`. Rate should be set to `rate = 1 - keep_prob`.\n",
      "Restarting training: history.log and checkpoints havebeen cleared.\n"
     ]
    },
    {
     "name": "stderr",
     "output_type": "stream",
     "text": [
      "2022-11-04 15:36:55.625845: E tensorflow/stream_executor/cuda/cuda_driver.cc:271] failed call to cuInit: CUDA_ERROR_NO_DEVICE: no CUDA-capable device is detected\n",
      "2022-11-04 15:36:55.625898: I tensorflow/stream_executor/cuda/cuda_diagnostics.cc:156] kernel driver does not appear to be running on this host (r0login1.localdomain.hpc.udel.edu): /proc/driver/nvidia/version does not exist\n",
      "2022-11-04 15:36:55.626956: I tensorflow/core/platform/cpu_feature_guard.cc:193] This TensorFlow binary is optimized with oneAPI Deep Neural Network Library (oneDNN) to use the following CPU instructions in performance-critical operations:  AVX2 FMA\n",
      "To enable them in other operations, rebuild TensorFlow with the appropriate compiler flags.\n",
      "2022-11-04 15:36:55.811058: I tensorflow/compiler/mlir/mlir_graph_optimization_pass.cc:354] MLIR V1 optimization pass is not enabled\n"
     ]
    },
    {
     "name": "stdout",
     "output_type": "stream",
     "text": [
      "0\n",
      "100\n",
      "200\n",
      "300\n",
      "400\n",
      "500\n",
      "600\n",
      "700\n",
      "800\n"
     ]
    }
   ],
   "source": [
    "reload(dlm)\n",
    "\n",
    "R_dir = os.path.join(SAVE_DIR, str(R))\n",
    "BACKUP_DIR = os.path.join(R_dir, \"backup\")\n",
    "if not os.path.isdir(BACKUP_DIR):\n",
    "    os.mkdir(BACKUP_DIR)\n",
    "\n",
    "dlm.train_model(\n",
    "    R_dir,\n",
    "    num_epochs=100,\n",
    "    batch_size=100,\n",
    "    restart_fit=restart_fit,\n",
    "    BACKUP_DIR=BACKUP_DIR)"
   ]
  },
  {
   "cell_type": "code",
   "execution_count": null,
   "id": "9ab12751-81b6-4fd7-8989-f90cf056999c",
   "metadata": {},
   "outputs": [],
   "source": [
    "# acc2.eval(feed_dict={x: testImages, y_: testLabels, keep_prob: 1.0})"
   ]
  },
  {
   "cell_type": "code",
   "execution_count": null,
   "id": "edc934cf-39cb-40c7-8319-36a028ec2aa0",
   "metadata": {},
   "outputs": [],
   "source": []
  }
 ],
 "metadata": {
  "kernelspec": {
   "display_name": "Python 3 (ipykernel)",
   "language": "python",
   "name": "python3"
  },
  "language_info": {
   "codemirror_mode": {
    "name": "ipython",
    "version": 3
   },
   "file_extension": ".py",
   "mimetype": "text/x-python",
   "name": "python",
   "nbconvert_exporter": "python",
   "pygments_lexer": "ipython3",
   "version": "3.9.12"
  }
 },
 "nbformat": 4,
 "nbformat_minor": 5
}

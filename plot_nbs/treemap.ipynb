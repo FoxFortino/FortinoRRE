{
 "cells": [
  {
   "cell_type": "code",
   "execution_count": 1,
   "id": "dc325e7b-7bbe-47a4-b9bd-f547cc472d88",
   "metadata": {},
   "outputs": [],
   "source": [
    "import sys\n",
    "import os\n",
    "import glob\n",
    "import shutil\n",
    "\n",
    "import numpy as np\n",
    "import pandas as pd\n",
    "import matplotlib.pyplot as plt\n",
    "\n",
    "sys.path.extend((0, \"..\"))\n",
    "import RRE_utils as ut\n",
    "import SNIDsn\n",
    "\n",
    "import squarify"
   ]
  },
  {
   "cell_type": "code",
   "execution_count": 2,
   "id": "e513fb28-5c77-430a-ac13-ff876c6b3599",
   "metadata": {},
   "outputs": [
    {
     "data": {
      "text/html": [
       "<div>\n",
       "<style scoped>\n",
       "    .dataframe tbody tr th:only-of-type {\n",
       "        vertical-align: middle;\n",
       "    }\n",
       "\n",
       "    .dataframe tbody tr th {\n",
       "        vertical-align: top;\n",
       "    }\n",
       "\n",
       "    .dataframe thead th {\n",
       "        text-align: right;\n",
       "    }\n",
       "</style>\n",
       "<table border=\"1\" class=\"dataframe\">\n",
       "  <thead>\n",
       "    <tr style=\"text-align: right;\">\n",
       "      <th></th>\n",
       "      <th>Nspec</th>\n",
       "      <th>Nbins</th>\n",
       "      <th>WvlStart</th>\n",
       "      <th>WvlEnd</th>\n",
       "      <th>SplineKnots</th>\n",
       "      <th>SN</th>\n",
       "      <th>dm15</th>\n",
       "      <th>TypeStr</th>\n",
       "      <th>TypeInt</th>\n",
       "      <th>SubTypeInt</th>\n",
       "      <th>WFF subtype int</th>\n",
       "      <th>WFF subtype str</th>\n",
       "      <th>WFF broadtype int</th>\n",
       "      <th>WFF broadtype str</th>\n",
       "    </tr>\n",
       "  </thead>\n",
       "  <tbody>\n",
       "    <tr>\n",
       "      <th>0</th>\n",
       "      <td>60</td>\n",
       "      <td>1024</td>\n",
       "      <td>2500.0</td>\n",
       "      <td>10000.0</td>\n",
       "      <td>11</td>\n",
       "      <td>sn2003du</td>\n",
       "      <td>1.07</td>\n",
       "      <td>Ia-norm</td>\n",
       "      <td>1</td>\n",
       "      <td>2</td>\n",
       "      <td>0</td>\n",
       "      <td>Ia-norm</td>\n",
       "      <td>0</td>\n",
       "      <td>Ia</td>\n",
       "    </tr>\n",
       "    <tr>\n",
       "      <th>1</th>\n",
       "      <td>15</td>\n",
       "      <td>1024</td>\n",
       "      <td>2500.0</td>\n",
       "      <td>10000.0</td>\n",
       "      <td>8</td>\n",
       "      <td>sn2003it</td>\n",
       "      <td>1.36</td>\n",
       "      <td>Ia-norm</td>\n",
       "      <td>1</td>\n",
       "      <td>2</td>\n",
       "      <td>0</td>\n",
       "      <td>Ia-norm</td>\n",
       "      <td>0</td>\n",
       "      <td>Ia</td>\n",
       "    </tr>\n",
       "    <tr>\n",
       "      <th>2</th>\n",
       "      <td>5</td>\n",
       "      <td>1024</td>\n",
       "      <td>2500.0</td>\n",
       "      <td>10000.0</td>\n",
       "      <td>10</td>\n",
       "      <td>sn2000er</td>\n",
       "      <td>-9.99</td>\n",
       "      <td>Ibn</td>\n",
       "      <td>2</td>\n",
       "      <td>5</td>\n",
       "      <td>7</td>\n",
       "      <td>Ibn</td>\n",
       "      <td>1</td>\n",
       "      <td>Ib</td>\n",
       "    </tr>\n",
       "    <tr>\n",
       "      <th>3</th>\n",
       "      <td>8</td>\n",
       "      <td>1024</td>\n",
       "      <td>2500.0</td>\n",
       "      <td>10000.0</td>\n",
       "      <td>8</td>\n",
       "      <td>sn2001N</td>\n",
       "      <td>-9.99</td>\n",
       "      <td>Ia-norm</td>\n",
       "      <td>1</td>\n",
       "      <td>2</td>\n",
       "      <td>0</td>\n",
       "      <td>Ia-norm</td>\n",
       "      <td>0</td>\n",
       "      <td>Ia</td>\n",
       "    </tr>\n",
       "    <tr>\n",
       "      <th>4</th>\n",
       "      <td>10</td>\n",
       "      <td>1024</td>\n",
       "      <td>2500.0</td>\n",
       "      <td>10000.0</td>\n",
       "      <td>10</td>\n",
       "      <td>sn2007qe</td>\n",
       "      <td>1.03</td>\n",
       "      <td>Ia-norm</td>\n",
       "      <td>1</td>\n",
       "      <td>2</td>\n",
       "      <td>0</td>\n",
       "      <td>Ia-norm</td>\n",
       "      <td>0</td>\n",
       "      <td>Ia</td>\n",
       "    </tr>\n",
       "    <tr>\n",
       "      <th>...</th>\n",
       "      <td>...</td>\n",
       "      <td>...</td>\n",
       "      <td>...</td>\n",
       "      <td>...</td>\n",
       "      <td>...</td>\n",
       "      <td>...</td>\n",
       "      <td>...</td>\n",
       "      <td>...</td>\n",
       "      <td>...</td>\n",
       "      <td>...</td>\n",
       "      <td>...</td>\n",
       "      <td>...</td>\n",
       "      <td>...</td>\n",
       "      <td>...</td>\n",
       "    </tr>\n",
       "    <tr>\n",
       "      <th>516</th>\n",
       "      <td>9</td>\n",
       "      <td>1024</td>\n",
       "      <td>2500.0</td>\n",
       "      <td>10000.0</td>\n",
       "      <td>8</td>\n",
       "      <td>sn1998V</td>\n",
       "      <td>0.99</td>\n",
       "      <td>Ia-norm</td>\n",
       "      <td>1</td>\n",
       "      <td>2</td>\n",
       "      <td>0</td>\n",
       "      <td>Ia-norm</td>\n",
       "      <td>0</td>\n",
       "      <td>Ia</td>\n",
       "    </tr>\n",
       "    <tr>\n",
       "      <th>517</th>\n",
       "      <td>1</td>\n",
       "      <td>1024</td>\n",
       "      <td>2500.0</td>\n",
       "      <td>10000.0</td>\n",
       "      <td>8</td>\n",
       "      <td>sn2006cq</td>\n",
       "      <td>-9.99</td>\n",
       "      <td>Ia-norm</td>\n",
       "      <td>1</td>\n",
       "      <td>2</td>\n",
       "      <td>0</td>\n",
       "      <td>Ia-norm</td>\n",
       "      <td>0</td>\n",
       "      <td>Ia</td>\n",
       "    </tr>\n",
       "    <tr>\n",
       "      <th>518</th>\n",
       "      <td>10</td>\n",
       "      <td>1024</td>\n",
       "      <td>2500.0</td>\n",
       "      <td>10000.0</td>\n",
       "      <td>8</td>\n",
       "      <td>sn2005ke</td>\n",
       "      <td>1.82</td>\n",
       "      <td>Ia-91bg</td>\n",
       "      <td>1</td>\n",
       "      <td>4</td>\n",
       "      <td>2</td>\n",
       "      <td>Ia-91bg</td>\n",
       "      <td>0</td>\n",
       "      <td>Ia</td>\n",
       "    </tr>\n",
       "    <tr>\n",
       "      <th>519</th>\n",
       "      <td>2</td>\n",
       "      <td>1024</td>\n",
       "      <td>2500.0</td>\n",
       "      <td>10000.0</td>\n",
       "      <td>11</td>\n",
       "      <td>sn00dg</td>\n",
       "      <td>-9.99</td>\n",
       "      <td>Ia-norm</td>\n",
       "      <td>1</td>\n",
       "      <td>2</td>\n",
       "      <td>0</td>\n",
       "      <td>Ia-norm</td>\n",
       "      <td>0</td>\n",
       "      <td>Ia</td>\n",
       "    </tr>\n",
       "    <tr>\n",
       "      <th>520</th>\n",
       "      <td>4</td>\n",
       "      <td>1024</td>\n",
       "      <td>2500.0</td>\n",
       "      <td>10000.0</td>\n",
       "      <td>9</td>\n",
       "      <td>sn2007au</td>\n",
       "      <td>1.69</td>\n",
       "      <td>Ia-norm</td>\n",
       "      <td>1</td>\n",
       "      <td>2</td>\n",
       "      <td>0</td>\n",
       "      <td>Ia-norm</td>\n",
       "      <td>0</td>\n",
       "      <td>Ia</td>\n",
       "    </tr>\n",
       "  </tbody>\n",
       "</table>\n",
       "<p>521 rows × 14 columns</p>\n",
       "</div>"
      ],
      "text/plain": [
       "     Nspec  Nbins  WvlStart   WvlEnd  SplineKnots        SN  dm15  TypeStr  \\\n",
       "0       60   1024    2500.0  10000.0           11  sn2003du  1.07  Ia-norm   \n",
       "1       15   1024    2500.0  10000.0            8  sn2003it  1.36  Ia-norm   \n",
       "2        5   1024    2500.0  10000.0           10  sn2000er -9.99      Ibn   \n",
       "3        8   1024    2500.0  10000.0            8   sn2001N -9.99  Ia-norm   \n",
       "4       10   1024    2500.0  10000.0           10  sn2007qe  1.03  Ia-norm   \n",
       "..     ...    ...       ...      ...          ...       ...   ...      ...   \n",
       "516      9   1024    2500.0  10000.0            8   sn1998V  0.99  Ia-norm   \n",
       "517      1   1024    2500.0  10000.0            8  sn2006cq -9.99  Ia-norm   \n",
       "518     10   1024    2500.0  10000.0            8  sn2005ke  1.82  Ia-91bg   \n",
       "519      2   1024    2500.0  10000.0           11    sn00dg -9.99  Ia-norm   \n",
       "520      4   1024    2500.0  10000.0            9  sn2007au  1.69  Ia-norm   \n",
       "\n",
       "     TypeInt  SubTypeInt  WFF subtype int WFF subtype str  WFF broadtype int  \\\n",
       "0          1           2                0         Ia-norm                  0   \n",
       "1          1           2                0         Ia-norm                  0   \n",
       "2          2           5                7             Ibn                  1   \n",
       "3          1           2                0         Ia-norm                  0   \n",
       "4          1           2                0         Ia-norm                  0   \n",
       "..       ...         ...              ...             ...                ...   \n",
       "516        1           2                0         Ia-norm                  0   \n",
       "517        1           2                0         Ia-norm                  0   \n",
       "518        1           4                2         Ia-91bg                  0   \n",
       "519        1           2                0         Ia-norm                  0   \n",
       "520        1           2                0         Ia-norm                  0   \n",
       "\n",
       "    WFF broadtype str  \n",
       "0                  Ia  \n",
       "1                  Ia  \n",
       "2                  Ib  \n",
       "3                  Ia  \n",
       "4                  Ia  \n",
       "..                ...  \n",
       "516                Ia  \n",
       "517                Ia  \n",
       "518                Ia  \n",
       "519                Ia  \n",
       "520                Ia  \n",
       "\n",
       "[521 rows x 14 columns]"
      ]
     },
     "execution_count": 2,
     "metadata": {},
     "output_type": "execute_result"
    }
   ],
   "source": [
    "df = pd.read_csv(\"../metadataset.csv\", index_col=0)\n",
    "df"
   ]
  },
  {
   "cell_type": "code",
   "execution_count": 3,
   "id": "e39b6e60-8e64-4a58-8f37-81df39bb5a96",
   "metadata": {},
   "outputs": [],
   "source": [
    "cols = [\n",
    "    \"WFF subtype int\", \"WFF broadtype int\", \"Nspec\"\n",
    "]\n",
    "\n",
    "\n",
    "nSubtypes = np.zeros(17, dtype=int)\n",
    "nBroadtypes = np.zeros(4, dtype=int)\n",
    "\n",
    "nSpecSubtypes = np.zeros(17, dtype=int)\n",
    "nSpecBroadtypes = np.zeros(4, dtype=int)\n",
    "\n",
    "for row in df[cols].values:\n",
    "    nSubtypes[row[0]] += 1\n",
    "    nBroadtypes[row[1]] += 1\n",
    "\n",
    "    nSpecSubtypes[row[0]] += row[2]\n",
    "    nSpecBroadtypes[row[1]] += row[2]"
   ]
  },
  {
   "cell_type": "code",
   "execution_count": 4,
   "id": "70c95f76-9579-4d2c-b060-4d57eb656a75",
   "metadata": {},
   "outputs": [
    {
     "data": {
      "text/plain": [
       "(array([322,  36,  44,   2,   6,   7,  22,   3,  19,   2,  21,  24,   2,\n",
       "          6,   2,   2,   1]),\n",
       " array([417,  46,  47,  11]))"
      ]
     },
     "execution_count": 4,
     "metadata": {},
     "output_type": "execute_result"
    }
   ],
   "source": [
    "nSubtypes, nBroadtypes"
   ]
  },
  {
   "cell_type": "code",
   "execution_count": 5,
   "id": "fb090e65-9490-414d-9769-7d5ff5e05e03",
   "metadata": {},
   "outputs": [
    {
     "data": {
      "text/plain": [
       "(521, 521)"
      ]
     },
     "execution_count": 5,
     "metadata": {},
     "output_type": "execute_result"
    }
   ],
   "source": [
    "nSubtypes.sum(), nBroadtypes.sum()"
   ]
  },
  {
   "cell_type": "code",
   "execution_count": 6,
   "id": "931661a8-5b64-4802-913d-546e801135a0",
   "metadata": {},
   "outputs": [
    {
     "data": {
      "text/plain": [
       "(array([2380,  390,  264,   27,   64,  141,  270,   31,  328,   15,  263,\n",
       "         279,   33,  176,   13,   64,  241]),\n",
       " array([3266,  644,  575,  494]))"
      ]
     },
     "execution_count": 6,
     "metadata": {},
     "output_type": "execute_result"
    }
   ],
   "source": [
    "nSpecSubtypes, nSpecBroadtypes"
   ]
  },
  {
   "cell_type": "code",
   "execution_count": 7,
   "id": "f61918da-d1cb-488c-b9da-8bb0bf4c7f52",
   "metadata": {},
   "outputs": [
    {
     "data": {
      "text/plain": [
       "(4979, 4979)"
      ]
     },
     "execution_count": 7,
     "metadata": {},
     "output_type": "execute_result"
    }
   ],
   "source": [
    "nSpecSubtypes.sum(), nSpecBroadtypes.sum()"
   ]
  },
  {
   "cell_type": "code",
   "execution_count": 8,
   "id": "5e1b1dbb-cbe4-4e55-a99f-5b60ddbc0f16",
   "metadata": {},
   "outputs": [
    {
     "data": {
      "text/plain": [
       "(array([0.47800763, 0.07832898, 0.0530227 , 0.00542278, 0.01285399,\n",
       "        0.02831894, 0.05422776, 0.00622615, 0.06587668, 0.00301265,\n",
       "        0.05282185, 0.05603535, 0.00662784, 0.03534846, 0.00261097,\n",
       "        0.01285399, 0.04840329]),\n",
       " array([0.65595501, 0.12934324, 0.11548504, 0.09921671]))"
      ]
     },
     "execution_count": 8,
     "metadata": {},
     "output_type": "execute_result"
    }
   ],
   "source": [
    "nSpecSubtypes / nSpecSubtypes.sum(), nSpecBroadtypes / nSpecBroadtypes.sum()"
   ]
  },
  {
   "cell_type": "code",
   "execution_count": 9,
   "id": "42599b2e-db14-4076-af67-a512c2b8fa0b",
   "metadata": {},
   "outputs": [],
   "source": [
    "colors = [\n",
    "    \"#0080ff\",\n",
    "    \"#1380ec\",\n",
    "    \"#2680d9\",\n",
    "    \"#3980c6\",\n",
    "    \"#4d80b3\",\n",
    "    \"#60809f\",\n",
    "    \n",
    "    \"#ff8000\",\n",
    "    \"#ec8013\",\n",
    "    \"#d98026\",\n",
    "    \"#c68039\",\n",
    "    \n",
    "    \"#ff00ff\",\n",
    "    \"#ec13ec\",\n",
    "    \"#d926d9\",\n",
    "    \n",
    "    \"#00ff00\",\n",
    "    \"#13ec13\",\n",
    "    \"#26d926\",\n",
    "    \"#39c639\"\n",
    "]"
   ]
  },
  {
   "cell_type": "code",
   "execution_count": 10,
   "id": "e1e51c9e-1e03-40c0-83e0-5d57c1a4a2af",
   "metadata": {},
   "outputs": [
    {
     "data": {
      "image/png": "[encoded data removed]",
      "text/plain": [
       "<Figure size 864x864 with 1 Axes>"
      ]
     },
     "metadata": {
      "needs_background": "light"
     },
     "output_type": "display_data"
    }
   ],
   "source": [
    "labels = [sn + f\"\\n{N}\" for sn, N in zip(ut.SNtypes_str, nSpecSubtypes)]\n",
    "\n",
    "plt.figure(figsize=(12, 12))\n",
    "squarify.plot(\n",
    "    sizes=nSpecSubtypes[:-1],\n",
    "    label=labels[:-1],\n",
    "    alpha=0.65,\n",
    "    color=colors[:-1],\n",
    "    text_kwargs={\"fontsize\": 15, \"fontfamily\": \"serif\", \"weight\": \"bold\"}\n",
    ").set()\n",
    "\n",
    "plt.axis('equal')\n",
    "plt.axis(\"off\")\n",
    "plt.savefig(\"treemap.pdf\", bbox_inches='tight', pad_inches=0)\n",
    "plt.show()"
   ]
  },
  {
   "cell_type": "code",
   "execution_count": null,
   "id": "25365f4d-f1f6-4d10-b296-da244987a440",
   "metadata": {},
   "outputs": [],
   "source": []
  }
 ],
 "metadata": {
  "kernelspec": {
   "display_name": "Python 3 (ipykernel)",
   "language": "python",
   "name": "python3"
  },
  "language_info": {
   "codemirror_mode": {
    "name": "ipython",
    "version": 3
   },
   "file_extension": ".py",
   "mimetype": "text/x-python",
   "name": "python",
   "nbconvert_exporter": "python",
   "pygments_lexer": "ipython3",
   "version": "3.9.12"
  }
 },
 "nbformat": 4,
 "nbformat_minor": 5
}

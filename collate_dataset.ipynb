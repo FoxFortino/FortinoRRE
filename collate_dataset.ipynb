{
 "cells": [
  {
   "cell_type": "code",
   "execution_count": 1,
   "id": "34e1542e-335d-4515-879f-e6a8406c5275",
   "metadata": {},
   "outputs": [],
   "source": [
    "import sys\n",
    "import os\n",
    "import glob\n",
    "import shutil\n",
    "\n",
    "import numpy as np\n",
    "import pandas as pd\n",
    "import matplotlib.pyplot as plt\n",
    "\n",
    "import RRE_utils as ut\n",
    "import SNIDsn"
   ]
  },
  {
   "cell_type": "code",
   "execution_count": 13,
   "id": "5bb80210-3973-43a1-9a08-b7feef1c9f31",
   "metadata": {},
   "outputs": [],
   "source": [
    "DATA_DIR = \"/lustre/lrspec/users/2649/FortinoRRE_spectralib/30/lnw_files\"\n",
    "lnws = glob.glob(os.path.join(DATA_DIR, \"*.lnw\"))"
   ]
  },
  {
   "cell_type": "code",
   "execution_count": 14,
   "id": "3c24aa66-b217-4885-9e14-086dead12da3",
   "metadata": {},
   "outputs": [],
   "source": [
    "columns = [\n",
    "    \"Nspec\", \"Nbins\", \"WvlStart\", \"WvlEnd\", \"SplineKnots\",\n",
    "    \"SN\", \"dm15\", \"TypeStr\", \"TypeInt\", \"SubTypeInt\"\n",
    "]\n",
    "\n",
    "df = pd.DataFrame(data=None, columns=columns)\n",
    "for i, lnw in enumerate(lnws):\n",
    "    spec = SNIDsn.SNIDsn()\n",
    "    spec.loadSNIDlnw(lnw)\n",
    "    spec_df = pd.DataFrame(spec.header, index=[i])\n",
    "    TypeStr = spec.header[\"TypeStr\"]\n",
    "\n",
    "    SNtype = ut.SNtypes_str_to_int[TypeStr]\n",
    "    SNtype_str = ut.SNtypes_int_to_str[SNtype]\n",
    "    spec_df[\"WFF subtype int\"] = SNtype\n",
    "    spec_df[\"WFF subtype str\"] = SNtype_str\n",
    "\n",
    "    SNbroadtype = ut.get_broad_type(SNtype).item()\n",
    "    SNbroadtype_str = ut.SNbroadtypes_int_to_str[SNbroadtype]\n",
    "    spec_df[\"WFF broadtype int\"] = SNbroadtype\n",
    "    spec_df[\"WFF broadtype str\"] = SNbroadtype_str\n",
    "\n",
    "    df = pd.concat([df, spec_df])"
   ]
  },
  {
   "cell_type": "code",
   "execution_count": 15,
   "id": "e4b80f1f-892e-40d1-a968-92a8c4104ff6",
   "metadata": {},
   "outputs": [],
   "source": [
    "df = df.astype({\n",
    "    \"SplineKnots\": int,\n",
    "    \"TypeInt\": int, \"SubTypeInt\": int,\n",
    "    \"WFF subtype int\": int, \"WFF broadtype int\": int\n",
    "})"
   ]
  },
  {
   "cell_type": "code",
   "execution_count": 5,
   "id": "6d8e3ab3-3617-4e81-932f-d98bacb85a29",
   "metadata": {},
   "outputs": [],
   "source": [
    "df.to_csv(\"metadataset.csv\")"
   ]
  }
 ],
 "metadata": {
  "kernelspec": {
   "display_name": "Python 3 (ipykernel)",
   "language": "python",
   "name": "python3"
  },
  "language_info": {
   "codemirror_mode": {
    "name": "ipython",
    "version": 3
   },
   "file_extension": ".py",
   "mimetype": "text/x-python",
   "name": "python",
   "nbconvert_exporter": "python",
   "pygments_lexer": "ipython3",
   "version": "3.9.12"
  }
 },
 "nbformat": 4,
 "nbformat_minor": 5
}
